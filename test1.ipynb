{
  "nbformat": 4,
  "nbformat_minor": 0,
  "metadata": {
    "colab": {
      "name": "Untitled8.ipynb",
      "provenance": []
    },
    "kernelspec": {
      "name": "python3",
      "display_name": "Python 3"
    }
  },
  "cells": [
    {
      "cell_type": "markdown",
      "metadata": {
        "id": "zjAxodEymq-q",
        "colab_type": "text"
      },
      "source": [
        "This notebook will be mainly used for the capstone project. Bla Bla Bla .. .. \n",
        "\n",
        "So, I need to install a 3rd party program and run some linux code without any expaination. And Of course, Github offical guide never mention that program. \n",
        "\n",
        "I don't believe that program is harmful, but if you don't know how to build customer confidence, you shouldn't take this job ! \n",
        "This must be the worst course in IBM data science package.  "
      ]
    },
    {
      "cell_type": "code",
      "metadata": {
        "id": "-VvM1jJLmo47",
        "colab_type": "code",
        "colab": {
          "base_uri": "https://localhost:8080/",
          "height": 34
        },
        "outputId": "b145480d-efaf-4f61-a160-1a63e122693d"
      },
      "source": [
        "import pandas as pd\n",
        "import numpy as np\n",
        "print('Hello Capstone Project Course!')"
      ],
      "execution_count": 1,
      "outputs": [
        {
          "output_type": "stream",
          "text": [
            "Hello Capstone Project Course!\n"
          ],
          "name": "stdout"
        }
      ]
    },
    {
      "cell_type": "code",
      "metadata": {
        "id": "VFMGWueqmqwB",
        "colab_type": "code",
        "colab": {}
      },
      "source": [
        ""
      ],
      "execution_count": 0,
      "outputs": []
    }
  ]
}